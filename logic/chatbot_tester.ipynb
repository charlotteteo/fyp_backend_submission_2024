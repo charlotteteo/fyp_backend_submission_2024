{
 "cells": [
  {
   "cell_type": "code",
   "execution_count": 2,
   "metadata": {},
   "outputs": [
    {
     "name": "stdout",
     "output_type": "stream",
     "text": [
      "\n",
      "\n",
      "\u001b[1m> Entering new AgentExecutor chain...\u001b[0m\n",
      "\u001b[32;1m\u001b[1;3mSure, I understand the procedure you've outlined. This framework will certainly allow me to provide a comprehensive portfolio review and recommendation. \n",
      "\n",
      "For instance, if a user approaches me for a portfolio review, I would first look into the portfolio's current allocation. If it is significantly tilted towards a particular sector, I would consider it as 'over-exposure'. \n",
      "\n",
      "To check for over-exposure, I can use the `description_of_company` function with the tickers of the stocks in the portfolio to find out the sectors they belong to. This would help me identify if there is a concentration in any particular sector.\n",
      "\n",
      "If there is over-exposure, I will evaluate the risk factors. This can be done using the `technical_analysis` function. This function will provide insights into the volatility, historical performance, and correlation of the stocks in the portfolio.\n",
      "\n",
      "If the analysis reveals a downward trend for the overexposed sector or constituents, my suggestion would be to consider removing those constituents from the portfolio.\n",
      "\n",
      "On the other hand, if the portfolio is well-diversified, I would explore untapped sectors that show promise. I can use the `tavily_search_results_json` or `google_finance` functions to gather the latest news and trends about various sectors. This should help identify potential sectors for investment.\n",
      "\n",
      "Once I have a list of potential constituents or sectors, I would conduct a comprehensive analysis of each. The `fundamental_analysis` function will provide insights into the company's fundamentals, and the `technical_analysis` function will provide technical indicators.\n",
      "\n",
      "Based on the results, I would then propose a re-weighting plan for the portfolio to optimize it better. \n",
      "\n",
      "This is only a high-level process, and the actual steps would depend on the user's specific needs and goals.\u001b[0m\n",
      "\n",
      "\u001b[1m> Finished chain.\u001b[0m\n"
     ]
    }
   ],
   "source": [
    "from langchain_chatbot import *\n",
    "agent_executor = initialise_agent()\n",
    "portfolio = {'AAPL':0.20, 'GOOGL':0.40, 'JNJ':0.10, 'TSLA': 0.3}\n",
    "result, chat_history = get_reply(agent_executor, \n",
    " \"\"\"You are a powerful and versatile financial robo-advisor designed to assist users with a wide range of financial inquiries. Consider using the different tools based on different circumstances.n\\n\\\n",
    "                If asked to give recommendations - follow this thought process closely, using available tools (including online search if insufficient information available)\n",
    "            . Check for Over-exposure in a Particular Sector/Constituent:\n",
    "Assess the allocation of the portfolio to identify potential over-exposure in specific sectors or constituents.\n",
    "IF OVEREXPOSURE: \n",
    "2. Evaluate Risk Factors:\n",
    "Integrate a comprehensive risk assessment, considering factors such as volatility, historical drawdowns, and correlation risks.\n",
    "3. Assess Trend (Downward Trending) & Fundamentals:\n",
    "Determine the overall trend (past 6 months) of over-exposed sectors or constituents by analyzing historical performance and recent market trends\n",
    "4. Suggest Removal of Constituent:\n",
    "Recommend the removal of identified volatile or poor performing constituents to reduce overall portfolio risk \n",
    "ELSE: \n",
    "5. Identify Untapped Sectors that are Promising:\n",
    "Explore untapped sectors with promising potential for diversification and growth.\n",
    "6. Gather Potential Additional Constituents/Sector:\n",
    "Identify sectors or individual assets with low correlation to the removed constituent or sector.\n",
    "Propose potential additions to enhance diversification and mitigate correlation risks.\n",
    "7. Evaluate Each Constituent's Technicals & Fundamentals:\n",
    "Conduct a thorough analysis of technical indicators and fundamental metrics for each constituent.\n",
    "Consider technical aspects such as Moving Averages, RSI, MACD, and fundamental aspects like EPS, P/E ratio, and Debt to Equity ratio.\n",
    "8. Re-weight Constituents:\n",
    "Propose a strategic re-weighting plan for the remaining constituents, aiming for a more balanced and optimized allocation.\n",
    " \"\"\",chat_history = [])"
   ]
  },
  {
   "cell_type": "code",
   "execution_count": 4,
   "metadata": {},
   "outputs": [
    {
     "name": "stdout",
     "output_type": "stream",
     "text": [
      "\n",
      "\n",
      "\u001b[1m> Entering new AgentExecutor chain...\u001b[0m\n"
     ]
    },
    {
     "name": "stderr",
     "output_type": "stream",
     "text": [
      "[*********************100%%**********************]  1 of 1 completed"
     ]
    },
    {
     "name": "stdout",
     "output_type": "stream",
     "text": [
      "\u001b[32;1m\u001b[1;3m\n",
      "Invoking: `technical_analysis` with `{'ticker': 'AMZN', 'period': '1Y'}`\n",
      "\n",
      "\n",
      "\u001b[0m"
     ]
    },
    {
     "name": "stderr",
     "output_type": "stream",
     "text": [
      "\n",
      "/Users/charlotteteo/quantfolio_app/quantfolio_venv/lib/python3.9/site-packages/ta/trend.py:1030: FutureWarning: Series.__setitem__ treating keys as positions is deprecated. In a future version, integer keys will always be treated as labels (consistent with DataFrame behavior). To set a value by position, use `ser.iloc[pos] = value`\n",
      "  self._psar[i] = high2\n"
     ]
    },
    {
     "name": "stdout",
     "output_type": "stream",
     "text": [
      "\u001b[36;1m\u001b[1;3m{'rsi': 'Strong Sell', 'macd': 'Strong Sell', 'ma50': 'Strong Sell', 'ma200': 'Strong Buy', 'bb_bbm': 'Strong Sell', 'bb_bbh': 'Strong Sell', 'bb_bbl': 'Strong Sell', 'stoch': 'Strong Sell', 'atr': 'Strong Buy'}\u001b[0m\u001b[32;1m\u001b[1;3m\n",
      "Invoking: `fundamental_analysis` with `{'ticker': 'AMZN'}`\n",
      "\n",
      "\n",
      "\u001b[0m\u001b[33;1m\u001b[1;3m{'bookValue': 19.443, 'priceToBook': 8.844315, 'lastFiscalYearEnd': 1703980800, 'nextFiscalYearEnd': 1735603200, 'mostRecentQuarter': 1703980800, 'earningsQuarterlyGrowth': 37.216, 'netIncomeToCommon': 30424999936, 'trailingEps': 2.91, 'forwardEps': 5.2, 'pegRatio': 2.65, 'totalCashPerShare': 8.354, 'ebitda': 85515001856, 'totalDebt': 161573994496, 'quickRatio': 0.807, 'currentRatio': 1.045, 'totalRevenue': 574784995328, 'debtToEquity': 80.037, 'revenuePerShare': 55.783, 'returnOnAssets': 0.04651, 'returnOnEquity': 0.1749, 'freeCashflow': 45475749888, 'operatingCashflow': 84946001920, 'earningsGrowth': 50.693, 'revenueGrowth': 0.139, 'grossMargins': 0.46982, 'ebitdaMargins': 0.14878, 'operatingMargins': 0.07525, 'financialCurrency': 'USD', 'trailingPegRatio': 2.3251}\u001b[0m\u001b[32;1m\u001b[1;3mBased on the technical analysis, Amazon's stock (ticker: AMZN) has varied recommendations. The RSI, MACD, Moving Averages for 50 and 200 days, Bollinger Bands, and Stochastic indicators all suggest a strong sell. However, the ATR indicator suggests a strong buy.\n",
      "\n",
      "As for the fundamental analysis, Amazon has displayed strong performance:\n",
      "\n",
      "- Earnings Quarterly Growth: 37.22%, indicating a strong increase in profitability.\n",
      "- Trailing EPS: 2.91, which shows good profitability.\n",
      "- Forward EPS: 5.2, suggesting further growth.\n",
      "- PEG Ratio: 2.65, which is considered overvalued.\n",
      "- Cash per Share: 8.354, showing a healthy cash position.\n",
      "- Quick Ratio: 0.807 and Current Ratio: 1.045, both suggesting good liquidity.\n",
      "- Revenue Growth: 13.9%, which is a strong growth rate.\n",
      "\n",
      "However, it's important to consider that technical indicators might show transient market trends and volatility, while fundamental analysis gives a long-term investment perspective. Please refer to a financial advisor before making any investment decisions.\u001b[0m\n",
      "\n",
      "\u001b[1m> Finished chain.\u001b[0m\n"
     ]
    }
   ],
   "source": [
    "result1, chat_history1 = get_reply(agent_executor, 'what about amazon',chat_history)"
   ]
  },
  {
   "cell_type": "code",
   "execution_count": 6,
   "metadata": {},
   "outputs": [
    {
     "data": {
      "text/plain": [
       "\"Based on the technical analysis, Amazon's stock (ticker: AMZN) has varied recommendations. The RSI, MACD, Moving Averages for 50 and 200 days, Bollinger Bands, and Stochastic indicators all suggest a strong sell. However, the ATR indicator suggests a strong buy.\\n\\nAs for the fundamental analysis, Amazon has displayed strong performance:\\n\\n- Earnings Quarterly Growth: 37.22%, indicating a strong increase in profitability.\\n- Trailing EPS: 2.91, which shows good profitability.\\n- Forward EPS: 5.2, suggesting further growth.\\n- PEG Ratio: 2.65, which is considered overvalued.\\n- Cash per Share: 8.354, showing a healthy cash position.\\n- Quick Ratio: 0.807 and Current Ratio: 1.045, both suggesting good liquidity.\\n- Revenue Growth: 13.9%, which is a strong growth rate.\\n\\nHowever, it's important to consider that technical indicators might show transient market trends and volatility, while fundamental analysis gives a long-term investment perspective. Please refer to a financial advisor before making any investment decisions.\""
      ]
     },
     "execution_count": 6,
     "metadata": {},
     "output_type": "execute_result"
    }
   ],
   "source": [
    "result1['output']"
   ]
  }
 ],
 "metadata": {
  "interpreter": {
   "hash": "06e4d8d581260c9ced4e9c8a8332eedabb23f06867ee2dbfd0aa738e219a5f78"
  },
  "kernelspec": {
   "display_name": "Python 3.9.10 ('quantfolio_venv': venv)",
   "language": "python",
   "name": "python3"
  },
  "language_info": {
   "codemirror_mode": {
    "name": "ipython",
    "version": 3
   },
   "file_extension": ".py",
   "mimetype": "text/x-python",
   "name": "python",
   "nbconvert_exporter": "python",
   "pygments_lexer": "ipython3",
   "version": "3.9.10"
  },
  "orig_nbformat": 4
 },
 "nbformat": 4,
 "nbformat_minor": 2
}
