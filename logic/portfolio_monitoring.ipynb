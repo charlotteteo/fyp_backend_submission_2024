{
 "cells": [
  {
   "cell_type": "code",
   "execution_count": 6,
   "metadata": {},
   "outputs": [
    {
     "data": {
      "text/plain": [
       "dict_keys(['phone', 'longBusinessSummary', 'maxAge', 'priceHint', 'previousClose', 'open', 'dayLow', 'dayHigh', 'regularMarketPreviousClose', 'regularMarketOpen', 'regularMarketDayLow', 'regularMarketDayHigh', 'volume', 'regularMarketVolume', 'averageVolume', 'averageVolume10days', 'averageDailyVolume10Day', 'bid', 'ask', 'bidSize', 'askSize', 'totalAssets', 'fiftyTwoWeekLow', 'fiftyTwoWeekHigh', 'fiftyDayAverage', 'twoHundredDayAverage', 'navPrice', 'currency', 'category', 'ytdReturn', 'fundFamily', 'fundInceptionDate', 'legalType', 'exchange', 'quoteType', 'symbol', 'underlyingSymbol', 'shortName', 'longName', 'firstTradeDateEpochUtc', 'timeZoneFullName', 'timeZoneShortName', 'uuid', 'messageBoardId', 'gmtOffSetMilliseconds', 'trailingPegRatio'])"
      ]
     },
     "execution_count": 6,
     "metadata": {},
     "output_type": "execute_result"
    }
   ],
   "source": [
    "import yfinance as yf\n",
    "yf.Ticker('SCYB').info.keys()"
   ]
  },
  {
   "cell_type": "code",
   "execution_count": 5,
   "metadata": {},
   "outputs": [
    {
     "data": {
      "text/plain": [
       "{'phone': '1-800-474-2737',\n",
       " 'longBusinessSummary': 'The underlying index measures the performance of public obligations of the U.S. Treasury that have a remaining maturity of greater than or equal to seven years and less than ten years. The fund will invest at least 80% of its assets in the component securities of the underlying index, and the fund will invest at least 90% of its assets in U.S. Treasury securities that the advisor believes will help the fund track the underlying index.',\n",
       " 'maxAge': 86400,\n",
       " 'priceHint': 2,\n",
       " 'previousClose': 94.51,\n",
       " 'open': 94.16,\n",
       " 'dayLow': 93.835,\n",
       " 'dayHigh': 94.165,\n",
       " 'regularMarketPreviousClose': 94.51,\n",
       " 'regularMarketOpen': 94.16,\n",
       " 'regularMarketDayLow': 93.835,\n",
       " 'regularMarketDayHigh': 94.165,\n",
       " 'volume': 4665091,\n",
       " 'regularMarketVolume': 4665091,\n",
       " 'averageVolume': 9167290,\n",
       " 'averageVolume10days': 8591140,\n",
       " 'averageDailyVolume10Day': 8591140,\n",
       " 'bid': 95.13,\n",
       " 'ask': 95.14,\n",
       " 'bidSize': 21500,\n",
       " 'askSize': 21500,\n",
       " 'yield': 0.0301,\n",
       " 'totalAssets': 27845132288,\n",
       " 'fiftyTwoWeekLow': 88.86,\n",
       " 'fiftyTwoWeekHigh': 100.8,\n",
       " 'fiftyDayAverage': 94.9122,\n",
       " 'twoHundredDayAverage': 94.2239,\n",
       " 'trailingAnnualDividendRate': 0.934,\n",
       " 'trailingAnnualDividendYield': 0.009882552,\n",
       " 'navPrice': 94.47562,\n",
       " 'currency': 'USD',\n",
       " 'category': 'Long Government',\n",
       " 'ytdReturn': -0.0123304,\n",
       " 'beta3Year': 1.15,\n",
       " 'fundFamily': 'iShares',\n",
       " 'fundInceptionDate': 1027296000,\n",
       " 'legalType': 'Exchange Traded Fund',\n",
       " 'threeYearAverageReturn': -0.0405581,\n",
       " 'fiveYearAverageReturn': -0.0026925998,\n",
       " 'exchange': 'NGM',\n",
       " 'quoteType': 'ETF',\n",
       " 'symbol': 'IEF',\n",
       " 'underlyingSymbol': 'IEF',\n",
       " 'shortName': 'iShares 7-10 Year Treasury Bond',\n",
       " 'longName': 'iShares 7-10 Year Treasury Bond ETF',\n",
       " 'firstTradeDateEpochUtc': 1028035800,\n",
       " 'timeZoneFullName': 'America/New_York',\n",
       " 'timeZoneShortName': 'EDT',\n",
       " 'uuid': '23cc037b-8361-34e8-886c-b9963a0c5e2b',\n",
       " 'messageBoardId': 'finmb_8797472',\n",
       " 'gmtOffSetMilliseconds': -14400000,\n",
       " 'trailingPegRatio': None}"
      ]
     },
     "execution_count": 5,
     "metadata": {},
     "output_type": "execute_result"
    }
   ],
   "source": [
    "yf.download('IEF',start)"
   ]
  }
 ],
 "metadata": {
  "interpreter": {
   "hash": "06e4d8d581260c9ced4e9c8a8332eedabb23f06867ee2dbfd0aa738e219a5f78"
  },
  "kernelspec": {
   "display_name": "Python 3.9.10 ('quantfolio_venv': venv)",
   "language": "python",
   "name": "python3"
  },
  "language_info": {
   "codemirror_mode": {
    "name": "ipython",
    "version": 3
   },
   "file_extension": ".py",
   "mimetype": "text/x-python",
   "name": "python",
   "nbconvert_exporter": "python",
   "pygments_lexer": "ipython3",
   "version": "3.9.10"
  },
  "orig_nbformat": 4
 },
 "nbformat": 4,
 "nbformat_minor": 2
}
