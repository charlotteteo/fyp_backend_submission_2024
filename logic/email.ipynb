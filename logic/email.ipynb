{
 "cells": [
  {
   "cell_type": "code",
   "execution_count": 1,
   "metadata": {},
   "outputs": [
    {
     "name": "stdout",
     "output_type": "stream",
     "text": [
      "\u001b[31mERROR: Could not find a version that satisfies the requirement smtplib (from versions: none)\u001b[0m\u001b[31m\n",
      "\u001b[0m\u001b[31mERROR: No matching distribution found for smtplib\u001b[0m\u001b[31m\n",
      "\u001b[0m"
     ]
    }
   ],
   "source": [
    "\"portfolio\": {\n",
    "        \"stocks\": [\n",
    "          \"AAPL\",\n",
    "          \"GOOGL\",\n",
    "          \"V\",\n",
    "          \"JNJ\",\n",
    "          \"TSLA\",\n",
    "          \"IEF\",\n",
    "          \"BND\"\n",
    "        ],\n",
    "        \"weights\": [\n",
    "          0.2,\n",
    "          0.15,\n",
    "          0.1,\n",
    "          0.1,\n",
    "          0.15,\n",
    "          0.1,\n",
    "          0.2\n",
    "        ],\n",
    "        \"start_date\": [\n",
    "          \"2020-02-20\"\n",
    "        ],\n",
    "        \"end_date\": [\n",
    "          \"\"\n",
    "        ],\n",
    "        \"initial_investment\": \"10000\"\n",
    "      }"
   ]
  },
  {
   "cell_type": "code",
   "execution_count": null,
   "metadata": {},
   "outputs": [],
   "source": [
    "smtpserver = smtplib.SMTP(\"smtp.gmail.com\", 587)\n",
    "smtpserver.ehlo()\n",
    "smtpserver.starttls()\n",
    "smtpserver.ehlo()\n",
    "smtpserver.login('me@gmail.com', 'me_pass')"
   ]
  },
  {
   "cell_type": "code",
   "execution_count": 18,
   "metadata": {},
   "outputs": [
    {
     "name": "stdout",
     "output_type": "stream",
     "text": [
      "Email sent successfully!\n"
     ]
    }
   ],
   "source": [
    "import smtplib\n",
    "from email.mime.multipart import MIMEMultipart\n",
    "from portfolio_analyzer import *\n",
    "from email.mime.text import MIMEText\n",
    "sender_email = \"charlotteteoxuanqin@gmail.com\"\n",
    "sender_password = \"fxge ajub hqtw nwjf\"\n",
    "\n",
    "def send_portfolio_summary(user):\n",
    "    # Email configuration\n",
    "    subject = \"Portfolio Summary\"\n",
    "    smtp_server = \"smtp.gmail.com\"\n",
    "    smtp_port = 587  # Gmail SMTP port\n",
    "\n",
    "    # Create message container\n",
    "    msg = MIMEMultipart()\n",
    "    msg['From'] = sender_email\n",
    "    msg['To'] = user.personalInformation[\"email\"]\n",
    "    msg['Subject'] = subject\n",
    "\n",
    "    portfolio_evaluator = PortfolioAnalyzer(user.portfolio[\"stocks\"],user.portfolio[\"weights\"], user.portfolio[\"start_date\"], user.portfolio[\"end_date\"], user.portfolio[\"initial_investment\"])\n",
    "    \n",
    "    # Construct email body\n",
    "    body = portfolio_evaluator.get_portfolio_summary()\n",
    "    # Attach body to the email\n",
    "    msg.attach(MIMEText(body, 'plain'))\n",
    "\n",
    "    # Connect to SMTP server and send email\n",
    "    try:\n",
    "        server = smtplib.SMTP(smtp_server, smtp_port)\n",
    "        server.ehlo()\n",
    "        server.starttls()\n",
    "        server.ehlo()\n",
    "        server.login(sender_email, sender_password)\n",
    "        server.send_message(msg)\n",
    "        server.quit()\n",
    "        print(\"Email sent successfully!\")\n",
    "    except Exception as e:\n",
    "        print(f\"Failed to send email: {e}\")\n",
    "\n",
    "\n",
    "\n",
    "\n",
    "\n",
    "subject = \"Portfolio Summary\"\n",
    "\n",
    "# Example usage\n",
    "summary = \"\"\"\n",
    "\n",
    "Hello Charlotte,\n",
    "\n",
    "Here are the updates on your portfolio! \n",
    "\n",
    "Based on the fundamental analysis of your current portfolio:\n",
    "1. TSLA (Tesla, Inc.) and NVDA (NVIDIA Corporation) both show positive trailing EPS, indicating past profitability. However, their price-to-book ratios are quite high, indicating that their stock prices may be overvalued compared to their net assets. TESLA's quarterly earnings growth is down significantly, which might be a signal of caution, whereas NVDA shows remarkable growth in their earnings.\n",
    "The technical analysis shows:\n",
    "1. TSLA and NVDA, despite their high valuation, are showing strong buying signals based on RSI and MACD, indicating a positive momentum in their stock prices. However, their moving averages suggest a sell signal, indicating that they might be on a downward trend.\n",
    "2. JPM is showing strong buying signals on all technical indicators, indicating that it might be a good stock to hold onto.\n",
    "3. WMT exhibits mixed signals; some indicators suggest a sell, while others recommend a strong buy. This indicates volatility and uncertainty.\n",
    "Based on the information from the search results, the technology sector continues to promise growth and innovation. However, given the heavy exposure of your portfolio to this sector, you might want to consider diversification. The utilities sector is mentioned as potentially providing investors with a sense of security amidst market fluctuations. \n",
    "Therefore, you might want to consider adding stocks from the utilities sector to balance your portfolio.Moreover, considering your risk aversion level, you might want to decrease the weight of TESLA in your portfolio due to its high valuation and poor recent earnings growth. You might also want to rebalance the weight of NVDA despite its impressive performance to avoid over-exposure to a single stock.\n",
    "\n",
    "Best Regards,\n",
    "QuantfolioX\n",
    "\"\"\"\n",
    "recipient_email = \"charlotteteo.ct@gmail.com\"\n",
    "send_portfolio_summary(summary, recipient_email)\n"
   ]
  },
  {
   "cell_type": "code",
   "execution_count": 10,
   "metadata": {},
   "outputs": [
    {
     "ename": "SMTPAuthenticationError",
     "evalue": "(535, b'5.7.8 Username and Password not accepted. For more information, go to\\n5.7.8  https://support.google.com/mail/?p=BadCredentials k15-20020a170902c40f00b001ddc0bc5934sm2782106plk.249 - gsmtp')",
     "output_type": "error",
     "traceback": [
      "\u001b[0;31m---------------------------------------------------------------------------\u001b[0m",
      "\u001b[0;31mSMTPAuthenticationError\u001b[0m                   Traceback (most recent call last)",
      "Cell \u001b[0;32mIn[10], line 19\u001b[0m\n\u001b[1;32m     17\u001b[0m html_message[\u001b[38;5;124m'\u001b[39m\u001b[38;5;124mTo\u001b[39m\u001b[38;5;124m'\u001b[39m] \u001b[38;5;241m=\u001b[39m recipient_email\n\u001b[1;32m     18\u001b[0m \u001b[38;5;28;01mwith\u001b[39;00m smtplib\u001b[38;5;241m.\u001b[39mSMTP_SSL(\u001b[38;5;124m'\u001b[39m\u001b[38;5;124msmtp.gmail.com\u001b[39m\u001b[38;5;124m'\u001b[39m, \u001b[38;5;241m465\u001b[39m) \u001b[38;5;28;01mas\u001b[39;00m server:\n\u001b[0;32m---> 19\u001b[0m    \u001b[43mserver\u001b[49m\u001b[38;5;241;43m.\u001b[39;49m\u001b[43mlogin\u001b[49m\u001b[43m(\u001b[49m\u001b[43msender_email\u001b[49m\u001b[43m,\u001b[49m\u001b[43m \u001b[49m\u001b[43msender_password\u001b[49m\u001b[43m)\u001b[49m\n\u001b[1;32m     20\u001b[0m    server\u001b[38;5;241m.\u001b[39msendmail(sender_email, recipient_email, html_message\u001b[38;5;241m.\u001b[39mas_string())\n",
      "File \u001b[0;32m/usr/local/Cellar/python@3.9/3.9.10/Frameworks/Python.framework/Versions/3.9/lib/python3.9/smtplib.py:750\u001b[0m, in \u001b[0;36mSMTP.login\u001b[0;34m(self, user, password, initial_response_ok)\u001b[0m\n\u001b[1;32m    747\u001b[0m         last_exception \u001b[38;5;241m=\u001b[39m e\n\u001b[1;32m    749\u001b[0m \u001b[38;5;66;03m# We could not login successfully.  Return result of last attempt.\u001b[39;00m\n\u001b[0;32m--> 750\u001b[0m \u001b[38;5;28;01mraise\u001b[39;00m last_exception\n",
      "File \u001b[0;32m/usr/local/Cellar/python@3.9/3.9.10/Frameworks/Python.framework/Versions/3.9/lib/python3.9/smtplib.py:739\u001b[0m, in \u001b[0;36mSMTP.login\u001b[0;34m(self, user, password, initial_response_ok)\u001b[0m\n\u001b[1;32m    737\u001b[0m method_name \u001b[38;5;241m=\u001b[39m \u001b[38;5;124m'\u001b[39m\u001b[38;5;124mauth_\u001b[39m\u001b[38;5;124m'\u001b[39m \u001b[38;5;241m+\u001b[39m authmethod\u001b[38;5;241m.\u001b[39mlower()\u001b[38;5;241m.\u001b[39mreplace(\u001b[38;5;124m'\u001b[39m\u001b[38;5;124m-\u001b[39m\u001b[38;5;124m'\u001b[39m, \u001b[38;5;124m'\u001b[39m\u001b[38;5;124m_\u001b[39m\u001b[38;5;124m'\u001b[39m)\n\u001b[1;32m    738\u001b[0m \u001b[38;5;28;01mtry\u001b[39;00m:\n\u001b[0;32m--> 739\u001b[0m     (code, resp) \u001b[38;5;241m=\u001b[39m \u001b[38;5;28;43mself\u001b[39;49m\u001b[38;5;241;43m.\u001b[39;49m\u001b[43mauth\u001b[49m\u001b[43m(\u001b[49m\n\u001b[1;32m    740\u001b[0m \u001b[43m        \u001b[49m\u001b[43mauthmethod\u001b[49m\u001b[43m,\u001b[49m\u001b[43m \u001b[49m\u001b[38;5;28;43mgetattr\u001b[39;49m\u001b[43m(\u001b[49m\u001b[38;5;28;43mself\u001b[39;49m\u001b[43m,\u001b[49m\u001b[43m \u001b[49m\u001b[43mmethod_name\u001b[49m\u001b[43m)\u001b[49m\u001b[43m,\u001b[49m\n\u001b[1;32m    741\u001b[0m \u001b[43m        \u001b[49m\u001b[43minitial_response_ok\u001b[49m\u001b[38;5;241;43m=\u001b[39;49m\u001b[43minitial_response_ok\u001b[49m\u001b[43m)\u001b[49m\n\u001b[1;32m    742\u001b[0m     \u001b[38;5;66;03m# 235 == 'Authentication successful'\u001b[39;00m\n\u001b[1;32m    743\u001b[0m     \u001b[38;5;66;03m# 503 == 'Error: already authenticated'\u001b[39;00m\n\u001b[1;32m    744\u001b[0m     \u001b[38;5;28;01mif\u001b[39;00m code \u001b[38;5;129;01min\u001b[39;00m (\u001b[38;5;241m235\u001b[39m, \u001b[38;5;241m503\u001b[39m):\n",
      "File \u001b[0;32m/usr/local/Cellar/python@3.9/3.9.10/Frameworks/Python.framework/Versions/3.9/lib/python3.9/smtplib.py:662\u001b[0m, in \u001b[0;36mSMTP.auth\u001b[0;34m(self, mechanism, authobject, initial_response_ok)\u001b[0m\n\u001b[1;32m    660\u001b[0m \u001b[38;5;28;01mif\u001b[39;00m code \u001b[38;5;129;01min\u001b[39;00m (\u001b[38;5;241m235\u001b[39m, \u001b[38;5;241m503\u001b[39m):\n\u001b[1;32m    661\u001b[0m     \u001b[38;5;28;01mreturn\u001b[39;00m (code, resp)\n\u001b[0;32m--> 662\u001b[0m \u001b[38;5;28;01mraise\u001b[39;00m SMTPAuthenticationError(code, resp)\n",
      "\u001b[0;31mSMTPAuthenticationError\u001b[0m: (535, b'5.7.8 Username and Password not accepted. For more information, go to\\n5.7.8  https://support.google.com/mail/?p=BadCredentials k15-20020a170902c40f00b001ddc0bc5934sm2782106plk.249 - gsmtp')"
     ]
    }
   ],
   "source": [
    "import smtplib\n",
    "from email.mime.text import MIMEText\n",
    "sender_email = \"charlotteteo.ct@gmail.com\"\n",
    "sender_password = \"fxge ajub hqtw nwjf\"\n",
    "recipient_email = \"charlotteteo.ct@gmail.com\"\n",
    "subject = \"Hello from Python\"\n",
    "body = \"\"\"\n",
    "<html>\n",
    "  <body>\n",
    "    <p>This is an <b>HTML</b> email sent from Python using the Gmail SMTP server.</p>\n",
    "  </body>\n",
    "</html>\n",
    "\"\"\"\n",
    "html_message = MIMEText(body, 'html')\n",
    "html_message['Subject'] = subject\n",
    "html_message['From'] = sender_email\n",
    "html_message['To'] = recipient_email\n",
    "with smtplib.SMTP_SSL('smtp.gmail.com', 465) as server:\n",
    "   server.login(sender_email, sender_password)\n",
    "   server.sendmail(sender_email, recipient_email, html_message.as_string())"
   ]
  }
 ],
 "metadata": {
  "interpreter": {
   "hash": "06e4d8d581260c9ced4e9c8a8332eedabb23f06867ee2dbfd0aa738e219a5f78"
  },
  "kernelspec": {
   "display_name": "Python 3.9.10 ('quantfolio_venv': venv)",
   "language": "python",
   "name": "python3"
  },
  "language_info": {
   "codemirror_mode": {
    "name": "ipython",
    "version": 3
   },
   "file_extension": ".py",
   "mimetype": "text/x-python",
   "name": "python",
   "nbconvert_exporter": "python",
   "pygments_lexer": "ipython3",
   "version": "3.9.10"
  },
  "orig_nbformat": 4
 },
 "nbformat": 4,
 "nbformat_minor": 2
}
